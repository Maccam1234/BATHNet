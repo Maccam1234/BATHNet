{
 "cells": [
  {
   "cell_type": "code",
   "execution_count": 9,
   "id": "19156c8f-b844-40da-8d5c-665cac6915d7",
   "metadata": {},
   "outputs": [],
   "source": [
    "import numpy as np\n",
    "import scipy.signal\n",
    "from scipy.io import wavfile\n",
    "import os\n",
    "import librosa\n",
    "import soundfile as sf"
   ]
  },
  {
   "cell_type": "code",
   "execution_count": 10,
   "id": "88f1813d-9d8d-4305-a777-c0ab99ef6652",
   "metadata": {},
   "outputs": [],
   "source": [
    "def split_wav_to_clips(wav_path, output_dir, clip_duration=3):\n",
    "    # Create output directory if it doesn't exist\n",
    "    os.makedirs(output_dir, exist_ok=True)\n",
    "    sample_rate, data = wavfile.read(wav_path)\n",
    "    # Convert stereo to mono if needed\n",
    "    if data.ndim > 1:\n",
    "        data = data.mean(axis=1).astype(data.dtype)\n",
    "    clip_samples = clip_duration * sample_rate\n",
    "    total_samples = len(data)\n",
    "    num_clips = int(total_samples // clip_samples)\n",
    "    print(f\"Total duration: {total_samples/sample_rate:.2f}s\")\n",
    "    print(f\"Splitting into {num_clips} clips of {clip_duration}s each.\")\n",
    "    for i in range(num_clips):\n",
    "        start = i * clip_samples\n",
    "        end = start + clip_samples\n",
    "        clip_data = data[start:end]\n",
    "        output_path = os.path.join(output_dir, f\"{output_dir}_{i+1:03d}.wav\")\n",
    "        wavfile.write(output_path, sample_rate, clip_data)\n",
    "        print(f\"Saved: {output_path}\")"
   ]
  },
  {
   "cell_type": "code",
   "execution_count": 11,
   "id": "f2f2ab53-4992-4ef4-9a16-cc7713c965f2",
   "metadata": {},
   "outputs": [],
   "source": [
    "#slice audio file into 960ms segments\n",
    "def slice_audio_file(filename, output_dir, segment_duration=0.96, sample_rate=16000):\n",
    "    # Load full audio\n",
    "    waveform, sr = librosa.load(filename, sr=sample_rate)\n",
    "    segment_samples = int(segment_duration * sr)\n",
    "    total_samples = len(waveform)\n",
    "\n",
    "    os.makedirs(\"960ms_data/\" + output_dir, exist_ok=True)\n",
    "\n",
    "    num_segments = total_samples // segment_samples\n",
    "    for i in range(num_segments):\n",
    "        start = i * segment_samples\n",
    "        end = start + segment_samples\n",
    "        clip = waveform[start:end]\n",
    "\n",
    "        output_path = os.path.join(\"960ms_data/\" + output_dir, f\"{output_dir}_{i+1:04d}.wav\")\n",
    "        sf.write(output_path, clip, sr)\n",
    "\n",
    "    print(f\"{num_segments} segments saved in {output_dir}\")\n",
    "\n",
    "# Example usage\n",
    "# slice_audio_file(\"input.wav\", \"output_segments\")\n"
   ]
  },
  {
   "cell_type": "code",
   "execution_count": 13,
   "id": "8f3fa73d-a184-49aa-a93d-93385880a940",
   "metadata": {},
   "outputs": [
    {
     "name": "stdout",
     "output_type": "stream",
     "text": [
      "3 segments saved in bin1\n"
     ]
    }
   ],
   "source": [
    "slice_audio_file(\"wavs/bin1.wav\", \"bin1\")"
   ]
  },
  {
   "cell_type": "code",
   "execution_count": 21,
   "id": "d8a96e59-8881-4ba2-a096-809ec3a2f2a9",
   "metadata": {},
   "outputs": [
    {
     "name": "stdout",
     "output_type": "stream",
     "text": [
      "Total duration: 108.93s\n",
      "Splitting into 36 clips of 3s each.\n",
      "Saved: cam_abnormal2/cam_abnormal2_001.wav\n",
      "Saved: cam_abnormal2/cam_abnormal2_002.wav\n",
      "Saved: cam_abnormal2/cam_abnormal2_003.wav\n",
      "Saved: cam_abnormal2/cam_abnormal2_004.wav\n",
      "Saved: cam_abnormal2/cam_abnormal2_005.wav\n",
      "Saved: cam_abnormal2/cam_abnormal2_006.wav\n",
      "Saved: cam_abnormal2/cam_abnormal2_007.wav\n",
      "Saved: cam_abnormal2/cam_abnormal2_008.wav\n",
      "Saved: cam_abnormal2/cam_abnormal2_009.wav\n",
      "Saved: cam_abnormal2/cam_abnormal2_010.wav\n",
      "Saved: cam_abnormal2/cam_abnormal2_011.wav\n",
      "Saved: cam_abnormal2/cam_abnormal2_012.wav\n",
      "Saved: cam_abnormal2/cam_abnormal2_013.wav\n",
      "Saved: cam_abnormal2/cam_abnormal2_014.wav\n",
      "Saved: cam_abnormal2/cam_abnormal2_015.wav\n",
      "Saved: cam_abnormal2/cam_abnormal2_016.wav\n",
      "Saved: cam_abnormal2/cam_abnormal2_017.wav\n",
      "Saved: cam_abnormal2/cam_abnormal2_018.wav\n",
      "Saved: cam_abnormal2/cam_abnormal2_019.wav\n",
      "Saved: cam_abnormal2/cam_abnormal2_020.wav\n",
      "Saved: cam_abnormal2/cam_abnormal2_021.wav\n",
      "Saved: cam_abnormal2/cam_abnormal2_022.wav\n",
      "Saved: cam_abnormal2/cam_abnormal2_023.wav\n",
      "Saved: cam_abnormal2/cam_abnormal2_024.wav\n",
      "Saved: cam_abnormal2/cam_abnormal2_025.wav\n",
      "Saved: cam_abnormal2/cam_abnormal2_026.wav\n",
      "Saved: cam_abnormal2/cam_abnormal2_027.wav\n",
      "Saved: cam_abnormal2/cam_abnormal2_028.wav\n",
      "Saved: cam_abnormal2/cam_abnormal2_029.wav\n",
      "Saved: cam_abnormal2/cam_abnormal2_030.wav\n",
      "Saved: cam_abnormal2/cam_abnormal2_031.wav\n",
      "Saved: cam_abnormal2/cam_abnormal2_032.wav\n",
      "Saved: cam_abnormal2/cam_abnormal2_033.wav\n",
      "Saved: cam_abnormal2/cam_abnormal2_034.wav\n",
      "Saved: cam_abnormal2/cam_abnormal2_035.wav\n",
      "Saved: cam_abnormal2/cam_abnormal2_036.wav\n"
     ]
    }
   ],
   "source": [
    "split_wav_to_clips(\"cam_abnormal2.wav\", \"cam_abnormal2\", clip_duration=3)"
   ]
  },
  {
   "cell_type": "code",
   "execution_count": null,
   "id": "ef86bc7a-fec5-451f-8f0d-bb209145dec5",
   "metadata": {},
   "outputs": [],
   "source": []
  }
 ],
 "metadata": {
  "kernelspec": {
   "display_name": "Python 3 (ipykernel)",
   "language": "python",
   "name": "python3"
  },
  "language_info": {
   "codemirror_mode": {
    "name": "ipython",
    "version": 3
   },
   "file_extension": ".py",
   "mimetype": "text/x-python",
   "name": "python",
   "nbconvert_exporter": "python",
   "pygments_lexer": "ipython3",
   "version": "3.11.0rc1"
  }
 },
 "nbformat": 4,
 "nbformat_minor": 5
}
